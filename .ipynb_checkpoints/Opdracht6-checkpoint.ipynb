{
 "cells": [
  {
   "cell_type": "markdown",
   "id": "8cd989d4",
   "metadata": {},
   "source": [
    "      -5 jaar\n",
    "      -initiele investering = €400 000\n",
    "      -Kosten van kapitaal = 5%\n",
    "      -jaarlijkse cashflow = €150 000"
   ]
  },
  {
   "cell_type": "code",
   "execution_count": 6,
   "id": "ec08bc7d",
   "metadata": {},
   "outputs": [],
   "source": [
    "import numpy_financial as np"
   ]
  },
  {
   "cell_type": "code",
   "execution_count": 44,
   "id": "18578205",
   "metadata": {},
   "outputs": [],
   "source": [
    "time = 5\n",
    "rate = 0.05\n",
    "cashFlow = [-400000, 150000, 150000, 150000, 150000, 150000, 150000, 150000, 150000]"
   ]
  },
  {
   "cell_type": "code",
   "execution_count": 45,
   "id": "f3ed81f7",
   "metadata": {},
   "outputs": [
    {
     "name": "stdout",
     "output_type": "stream",
     "text": [
      "De netto contante waarde is €569,481.91\n"
     ]
    }
   ],
   "source": [
    "print(f'De netto contante waarde is €{np.npv(rate, cashFlow):,.2f}')"
   ]
  },
  {
   "cell_type": "code",
   "execution_count": 46,
   "id": "88197a09",
   "metadata": {},
   "outputs": [],
   "source": [
    "irr = np.irr(cashFlow)"
   ]
  },
  {
   "cell_type": "code",
   "execution_count": 47,
   "id": "d8c31e80",
   "metadata": {},
   "outputs": [
    {
     "name": "stdout",
     "output_type": "stream",
     "text": [
      "De rendementsverwachting is 0.00%\n"
     ]
    }
   ],
   "source": [
    "print(f'De rendementsverwachting is {np.npv(irr, cashFlow):,.2f}%')"
   ]
  },
  {
   "cell_type": "code",
   "execution_count": 49,
   "id": "ea8b4d6b",
   "metadata": {},
   "outputs": [
    {
     "data": {
      "text/plain": [
       "-318332.06250000093"
      ]
     },
     "execution_count": 49,
     "metadata": {},
     "output_type": "execute_result"
    }
   ],
   "source": [
    "np.fv(rate,time,150000,-400000)"
   ]
  },
  {
   "cell_type": "code",
   "execution_count": null,
   "id": "85b88a81",
   "metadata": {},
   "outputs": [],
   "source": []
  }
 ],
 "metadata": {
  "kernelspec": {
   "display_name": "Python 3",
   "language": "python",
   "name": "python3"
  },
  "language_info": {
   "codemirror_mode": {
    "name": "ipython",
    "version": 3
   },
   "file_extension": ".py",
   "mimetype": "text/x-python",
   "name": "python",
   "nbconvert_exporter": "python",
   "pygments_lexer": "ipython3",
   "version": "3.8.8"
  }
 },
 "nbformat": 4,
 "nbformat_minor": 5
}
