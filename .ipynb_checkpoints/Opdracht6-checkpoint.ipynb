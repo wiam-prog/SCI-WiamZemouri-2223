{
 "cells": [
  {
   "cell_type": "markdown",
   "id": "8cd989d4",
   "metadata": {},
   "source": [
    "      -5 jaar\n",
    "      -initiele investering = €400 000\n",
    "      -Kosten van kapitaal = 5%\n",
    "      -jaarlijkse cashflow = €150 000"
   ]
  },
  {
   "cell_type": "code",
   "execution_count": 12,
   "id": "ec08bc7d",
   "metadata": {},
   "outputs": [],
   "source": [
    "import numpy_financial as np\n",
    "import matplotlib.pyplot as plt\n"
   ]
  },
  {
   "cell_type": "code",
   "execution_count": 13,
   "id": "18578205",
   "metadata": {},
   "outputs": [],
   "source": [
    "time = 5\n",
    "rate = 0.05\n",
    "cashFlow = [-400000, 150000, 150000, 150000, 150000]"
   ]
  },
  {
   "cell_type": "code",
   "execution_count": 14,
   "id": "f3ed81f7",
   "metadata": {},
   "outputs": [
    {
     "name": "stdout",
     "output_type": "stream",
     "text": [
      "De netto contante waarde is €131,892.58\n"
     ]
    }
   ],
   "source": [
    "print(f'De netto contante waarde is €{np.npv(rate, cashFlow):,.2f}')"
   ]
  },
  {
   "cell_type": "code",
   "execution_count": 15,
   "id": "88197a09",
   "metadata": {},
   "outputs": [],
   "source": [
    "irr = np.irr(cashFlow)"
   ]
  },
  {
   "cell_type": "code",
   "execution_count": 16,
   "id": "d8c31e80",
   "metadata": {},
   "outputs": [
    {
     "name": "stdout",
     "output_type": "stream",
     "text": [
      "De rendementsverwachting is -0.00%\n"
     ]
    }
   ],
   "source": [
    "print(f'De rendementsverwachting is {np.npv(irr, cashFlow):,.2f}%')"
   ]
  },
  {
   "cell_type": "code",
   "execution_count": 26,
   "id": "ea8b4d6b",
   "metadata": {},
   "outputs": [
    {
     "name": "stdout",
     "output_type": "stream",
     "text": [
      "€ 318,332.06\n"
     ]
    }
   ],
   "source": [
    "fv = np.fv(rate,time,-150000,400000)\n",
    "print(f'€ {fv:,.2f}')"
   ]
  },
  {
   "cell_type": "code",
   "execution_count": 22,
   "id": "25ad8c48",
   "metadata": {},
   "outputs": [
    {
     "name": "stdout",
     "output_type": "stream",
     "text": [
      "[400000.0, 269999.9999999999, 133499.99999999988, -9825.00000000035, -160316.25000000058]\n"
     ]
    },
    {
     "data": {
      "image/png": "[encoded data removed]",
      "text/plain": [
       "<Figure size 432x288 with 1 Axes>"
      ]
     },
     "metadata": {
      "needs_background": "light"
     },
     "output_type": "display_data"
    }
   ],
   "source": [
    "y = [np.fv(rate,i,-150000,400000) for i in range(5)]\n",
    "print([np.fv(rate,i,150000,-400000) for i in range(5)])\n",
    "plt.plot(y)\n",
    "plt.ylabel(\"Inves tment Value\")\n",
    "plt.xlabel (\"Years \" )\n",
    "plt.show()"
   ]
  },
  {
   "cell_type": "code",
   "execution_count": null,
   "id": "38b8e755",
   "metadata": {},
   "outputs": [],
   "source": []
  }
 ],
 "metadata": {
  "kernelspec": {
   "display_name": "Python 3",
   "language": "python",
   "name": "python3"
  },
  "language_info": {
   "codemirror_mode": {
    "name": "ipython",
    "version": 3
   },
   "file_extension": ".py",
   "mimetype": "text/x-python",
   "name": "python",
   "nbconvert_exporter": "python",
   "pygments_lexer": "ipython3",
   "version": "3.8.8"
  }
 },
 "nbformat": 4,
 "nbformat_minor": 5
}
