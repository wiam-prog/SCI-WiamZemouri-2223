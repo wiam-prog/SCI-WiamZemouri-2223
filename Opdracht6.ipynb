{
 "cells": [
  {
   "cell_type": "markdown",
   "id": "8cd989d4",
   "metadata": {},
   "source": [
    "**Tijd = 5 jaar  \n",
    "Initiele investering = €400 000  \n",
    "Kosten van kapitaal = 5%  \n",
    "Jaarlijkse cashflow = €150 000**"
   ]
  },
  {
   "cell_type": "code",
   "execution_count": 27,
   "id": "ec08bc7d",
   "metadata": {},
   "outputs": [],
   "source": [
    "import numpy_financial as np\n",
    "import matplotlib.pyplot as plt\n"
   ]
  },
  {
   "cell_type": "markdown",
   "id": "e32374df",
   "metadata": {},
   "source": [
    "**CF:** CashFlow is de beweging van geld in en uit een bedrijf.\n",
    "\n",
    "**I:** Interest is de rente per periode"
   ]
  },
  {
   "cell_type": "markdown",
   "id": "bbe2ba8a",
   "metadata": {},
   "source": [
    "Ik investeer in een project van €400.000 euro gedurende 4 jaar. Er zal een rate zijn van 25%."
   ]
  },
  {
   "cell_type": "code",
   "execution_count": 28,
   "id": "18578205",
   "metadata": {},
   "outputs": [],
   "source": [
    "time = 4\n",
    "rate = 0.25\n",
    "cashFlow = [-400000, 50000, 100000, 150000, 200000]"
   ]
  },
  {
   "cell_type": "code",
   "execution_count": 29,
   "id": "f3ed81f7",
   "metadata": {},
   "outputs": [
    {
     "name": "stdout",
     "output_type": "stream",
     "text": [
      "De netto contante waarde is €-137,280.00\n"
     ]
    }
   ],
   "source": [
    "print(f'De netto contante waarde is €{np.npv(rate, cashFlow):,.2f}')"
   ]
  },
  {
   "cell_type": "markdown",
   "id": "b4d1ae51",
   "metadata": {},
   "source": [
    "**IRR:** Internal Rate of Return wordt gebruikt om de winstgevendheid van een project of investering te evalueren. Het is het rendement dat vereist is om eens investering break-even te maken, rekening houdend met de tijdswaarde van geld.\n",
    "\n",
    "**NPV:** Net Present Value is een financiële maatstaf die wordt gebruikt om de winst van een investering of project te evalueren. Het berekent het verschil tussen de huidige waarde van de verwachte cash flow van een investering of project en de oorspronkelijke kosten van de investering."
   ]
  },
  {
   "cell_type": "code",
   "execution_count": 30,
   "id": "88197a09",
   "metadata": {},
   "outputs": [],
   "source": [
    "irr = np.irr(cashFlow)"
   ]
  },
  {
   "cell_type": "code",
   "execution_count": 31,
   "id": "d8c31e80",
   "metadata": {},
   "outputs": [
    {
     "name": "stdout",
     "output_type": "stream",
     "text": [
      "De rendementsverwachting is 0.00%\n"
     ]
    }
   ],
   "source": [
    "print(f'De rendementsverwachting is {np.npv(irr, cashFlow):,.2f}%')"
   ]
  },
  {
   "cell_type": "markdown",
   "id": "4c3f3d4a",
   "metadata": {},
   "source": [
    "**FV:** Future Value verwijst naar de waarde van een aanwinst naar een toekomstige datum."
   ]
  },
  {
   "cell_type": "code",
   "execution_count": 32,
   "id": "ea8b4d6b",
   "metadata": {},
   "outputs": [
    {
     "name": "stdout",
     "output_type": "stream",
     "text": [
      "€ 111,718.75\n"
     ]
    }
   ],
   "source": [
    "fv = np.fv(rate,time,150000,-400000)\n",
    "print(f'€ {fv:,.2f}')"
   ]
  },
  {
   "cell_type": "code",
   "execution_count": 33,
   "id": "25ad8c48",
   "metadata": {},
   "outputs": [
    {
     "name": "stdout",
     "output_type": "stream",
     "text": [
      "[-400000.0, -350000.0, -287500.0, -209375.0, -111718.75]\n"
     ]
    },
    {
     "data": {
      "image/png": "[encoded data removed]",
      "text/plain": [
       "<Figure size 432x288 with 1 Axes>"
      ]
     },
     "metadata": {
      "needs_background": "light"
     },
     "output_type": "display_data"
    }
   ],
   "source": [
    "y = [np.fv(rate,i,-150000,400000) for i in range(5)]\n",
    "print([np.fv(rate,i,-150000,400000) for i in range(5)])\n",
    "plt.plot(y)\n",
    "plt.ylabel(\"Inves tment Value\")\n",
    "plt.xlabel (\"Years \" )\n",
    "plt.show()"
   ]
  },
  {
   "cell_type": "code",
   "execution_count": null,
   "id": "38b8e755",
   "metadata": {},
   "outputs": [],
   "source": []
  }
 ],
 "metadata": {
  "kernelspec": {
   "display_name": "Python 3",
   "language": "python",
   "name": "python3"
  },
  "language_info": {
   "codemirror_mode": {
    "name": "ipython",
    "version": 3
   },
   "file_extension": ".py",
   "mimetype": "text/x-python",
   "name": "python",
   "nbconvert_exporter": "python",
   "pygments_lexer": "ipython3",
   "version": "3.8.8"
  }
 },
 "nbformat": 4,
 "nbformat_minor": 5
}
